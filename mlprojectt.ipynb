{
 "cells": [
  {
   "cell_type": "code",
   "execution_count": 21,
   "id": "81feb602-4c26-4ff1-8833-3a26d918ccf6",
   "metadata": {},
   "outputs": [],
   "source": [
    "import numpy as np\n",
    "import pandas as pd\n",
    "from sklearn.model_selection import train_test_split\n",
    "from sklearn.linear_model import LogisticRegression\n",
    "from sklearn.metrics import accuracy_score"
   ]
  },
  {
   "cell_type": "code",
   "execution_count": 22,
   "id": "e82ce854-2183-4c2a-abf3-0584848ff4a6",
   "metadata": {},
   "outputs": [],
   "source": [
    "def generate_board():\n",
    "    board = np.random.choice([1, -1, 0], size=9)  # 1 for X, -1 for O, 0 for empty\n",
    "    return board"
   ]
  },
  {
   "cell_type": "code",
   "execution_count": 23,
   "id": "fc214d35-1e7c-43cb-8aaf-225204f0f56b",
   "metadata": {},
   "outputs": [],
   "source": [
    "def generate_dataset(num_samples=10000):\n",
    "    data = []\n",
    "    labels = []\n",
    "    for _ in range(num_samples):\n",
    "        board = generate_board()\n",
    "        winner = check_winner_np(board)\n",
    "        while winner is None:\n",
    "            board = generate_board()\n",
    "            winner = check_winner_np(board)\n",
    "        data.append(board)\n",
    "        labels.append(winner)\n",
    "    df = pd.DataFrame(data, columns=[f'cell_{i}' for i in range(9)])\n",
    "    df['result'] = labels\n",
    "    return df\n"
   ]
  },
  {
   "cell_type": "code",
   "execution_count": 24,
   "id": "6f20707c-d250-4d29-b41d-fb67d15f2fc7",
   "metadata": {},
   "outputs": [],
   "source": [
    "def check_winner_np(board):\n",
    "    wins = [\n",
    "        [0, 1, 2], [3, 4, 5], [6, 7, 8],  # Horizontal\n",
    "        [0, 3, 6], [1, 4, 7], [2, 5, 8],  # Vertical\n",
    "        [0, 4, 8], [2, 4, 6]              # Diagonal\n",
    "    ]\n",
    "    for win in wins:\n",
    "        if np.sum(board[win]) == 3:\n",
    "            return 1  # X wins\n",
    "        elif np.sum(board[win]) == -3:\n",
    "            return -1  # O wins\n",
    "    if 0 not in board:\n",
    "        return 0  # Draw\n",
    "    return None  # Game is not over"
   ]
  },
  {
   "cell_type": "code",
   "execution_count": 25,
   "id": "6c94d713-70b6-477d-a5bf-cdcbb22a187a",
   "metadata": {},
   "outputs": [
    {
     "name": "stdout",
     "output_type": "stream",
     "text": [
      "Model Accuracy: 93.15%\n"
     ]
    }
   ],
   "source": [
    "df = generate_dataset(10000)\n",
    "X = df.drop('result', axis=1)\n",
    "y = df['result']\n",
    "X_train, X_test, y_train, y_test = train_test_split(X, y, test_size=0.2, random_state=42)\n",
    "model = LogisticRegression(max_iter=1000)\n",
    "model.fit(X_train, y_train)\n",
    "\n",
    "\n",
    "y_pred = model.predict(X_test)\n",
    "accuracy = accuracy_score(y_test, y_pred)\n",
    "print(f\"Model Accuracy: {accuracy * 100:.2f}%\")\n"
   ]
  },
  {
   "cell_type": "code",
   "execution_count": 26,
   "id": "e2b3922e-6072-4ae4-aff4-a45a34e9e14f",
   "metadata": {},
   "outputs": [],
   "source": [
    "def human_vs_model():\n",
    "    board = np.zeros(9, dtype=int)  # Empty board\n",
    "    turn = 1  # X starts (human)\n",
    "    while True:\n",
    "        print_board(board)\n",
    "        if turn == 1:\n",
    "            move = int(input(\"Your turn! Choose a position (0-8): \"))\n",
    "            if move < 0 or move > 8 or board[move] != 0:\n",
    "                print(\"Invalid move! Try again.\")\n",
    "                continue\n",
    "            board[move] = turn\n",
    "        else:\n",
    "            available_moves = [i for i in range(9) if board[i] == 0]\n",
    "            move = model_choose_move(board, available_moves)\n",
    "            board[move] = turn\n",
    "            print(f\"Model plays at position: {move}\")\n",
    "        winner = check_winner(board)\n",
    "        if winner is not None:\n",
    "            print_board(board)\n",
    "            if winner == 1:\n",
    "                print(\"X wins!\")\n",
    "            elif winner == -1:\n",
    "                print(\"O wins!\")\n",
    "            else:\n",
    "                print(\"It's a draw!\")\n",
    "            break\n",
    "        turn = 1 - turn  # Switch turns\n",
    "\n",
    "       "
   ]
  },
  {
   "cell_type": "code",
   "execution_count": 27,
   "id": "d8728484-0855-4dbb-884d-66c1ce868f60",
   "metadata": {},
   "outputs": [],
   "source": [
    "def print_board(board):\n",
    "    symbols = {0: '.', 1: 'X', -1: 'O'}\n",
    "    for i in range(0, 9, 3):\n",
    "        print(' '.join(symbols[board[i]] for i in range(i, i+3)))\n",
    "    print()\n",
    "\n",
    "    "
   ]
  },
  {
   "cell_type": "code",
   "execution_count": 28,
   "id": "47a54544-0603-4062-a457-6eb342cee69b",
   "metadata": {},
   "outputs": [],
   "source": [
    "def model_choose_move(board, available_moves):\n",
    "    return np.random.choice(available_moves)\n"
   ]
  }
 ],
 "metadata": {
  "kernelspec": {
   "display_name": "Python 3 (ipykernel)",
   "language": "python",
   "name": "python3"
  },
  "language_info": {
   "codemirror_mode": {
    "name": "ipython",
    "version": 3
   },
   "file_extension": ".py",
   "mimetype": "text/x-python",
   "name": "python",
   "nbconvert_exporter": "python",
   "pygments_lexer": "ipython3",
   "version": "3.12.8"
  }
 },
 "nbformat": 4,
 "nbformat_minor": 5
}
